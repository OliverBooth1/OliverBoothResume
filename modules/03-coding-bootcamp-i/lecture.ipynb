{
  "cells": [
    {
      "cell_type": "markdown",
      "metadata": {
        "id": "qLiNu7icPsKK"
      },
      "source": [
        "# Coding Bootcamp I"
      ]
    },
    {
      "cell_type": "markdown",
      "metadata": {
        "id": "15tGKMEFPsKL"
      },
      "source": [
        "## The Jupyter Notebook\n",
        "### subheader\n",
        "#### sub-subheader\n"
      ]
    },
    {
      "cell_type": "markdown",
      "metadata": {
        "id": "8z41RVImPsKM"
      },
      "source": [
        "Today we will cover the basics of Python, and introduce elements that will help you get familiar with Python as an interactive computational environment for exploring data.  The material is presented in an interactive environment that runs within your web browser, called a notebook. It allows presentation of text and graphics to be combined with Python code that can be run interactively, with the results appearing inline. We are looking at a notebook now.\n",
        "\n",
        "Python is an interpreted programming language, also referred to as a *high-level language* or as a scripting language. What this means is that when you write commands, or code that is meaningful in the Python language, the Python \"interpreter\" reads the command, figures out what the intended computation is, and then executes it. This differs from *low-level* languages like C or C++, in which you generally have to compile code  before you can run it, and if you find errors they have to be diagnosed and then the code re-compiled before you can run it. Interpreted languages skip the compile step, and just execute code directly, and if there are errors, they are seen at run-time.\n",
        "\n",
        "Pretty, pretty, pretty, pretty good."
      ]
    },
    {
      "cell_type": "markdown",
      "metadata": {
        "id": "mmTqQ672PsKM"
      },
      "source": [
        "## Python Environments"
      ]
    },
    {
      "cell_type": "markdown",
      "metadata": {
        "id": "rFgFmRfPPsKM"
      },
      "source": [
        "There are several ways to work with Python code:\n",
        "1. Starting Python at the command line, by typing 'python' at the command prompt\n",
        "1. Running a Python script file (.py)\n",
        "1. The way we will generally interact with Python is through Jupyter notebooks, a handy interface that runs in your web browser.  This is the environment you are looking at now, with a mixture of headings, text, and code embedded in an Python Notebook.\n",
        "\n",
        "\n",
        "## Writing Code\n",
        "\n",
        "In a jupyter notebook cell, hit Shift + Enter to run it and move to the next cell, or Ctrl + Enter to run it and stay on the same cell.\n",
        "\n",
        "The first programming command demonstrated when you are learning a programming language is usually to make the computer print 'Hello World!'.  In Python, doing this is pretty simple:"
      ]
    },
    {
      "cell_type": "code",
      "execution_count": 1,
      "metadata": {
        "id": "mrpfNTQuPsKM",
        "jupyter": {
          "outputs_hidden": false
        },
        "outputId": "3be36e18-b10c-414b-c4f0-979d550de457",
        "colab": {
          "base_uri": "https://localhost:8080/"
        }
      },
      "outputs": [
        {
          "output_type": "stream",
          "name": "stdout",
          "text": [
            "Hello World!\n"
          ]
        }
      ],
      "source": [
        "print(\"Hello World!\")"
      ]
    },
    {
      "cell_type": "code",
      "execution_count": 2,
      "metadata": {
        "id": "EoOhJ4v8PsKN",
        "outputId": "186caf77-aabb-4bfd-e3bb-60acbd6bfa5f",
        "colab": {
          "base_uri": "https://localhost:8080/"
        }
      },
      "outputs": [
        {
          "output_type": "stream",
          "name": "stdout",
          "text": [
            "a\n"
          ]
        }
      ],
      "source": [
        "# this is a comment. the python interpreter ignores it.\n",
        "# comments are just notes for humans to read to help understand the code\n",
        "# best practice: add a comment for every couple lines of code to explain what's going on and why\n",
        "# you'd be amazed at how quickly you forget your code's logic (at least i always do)\n",
        "\n",
        "print('a')"
      ]
    },
    {
      "cell_type": "markdown",
      "metadata": {
        "id": "mqlwJiSkPsKN"
      },
      "source": [
        "## The Notebook Interface\n",
        "\n",
        "Practicing working with the user interface by doing the following together:\n",
        "\n",
        "  1. Add a new code cell below this one.\n",
        "  2. Move it up.\n",
        "  3. Add a new text cell and type some text into it.\n",
        "  4. Cut it to delete it.\n",
        "  5. Edit > undo that cell operation.\n",
        "  6. Save the notebook file.\n",
        "  7. Restart the kernel and clear all outputs (under \"runtime\" and \"edit\" menus).\n",
        "  8. Run all cells up to this one.\n",
        "  \n",
        "Now repeat those steps by yourself to make sure you've got it all straight."
      ]
    },
    {
      "cell_type": "markdown",
      "metadata": {
        "id": "Z6cvRXm9PsKN"
      },
      "source": [
        "## Math in Python\n",
        "\n",
        "using mathematical operators"
      ]
    },
    {
      "cell_type": "code",
      "execution_count": 3,
      "metadata": {
        "id": "byVu7106PsKN",
        "jupyter": {
          "outputs_hidden": false
        },
        "outputId": "c7733997-646a-4db3-a527-1240a444a280",
        "colab": {
          "base_uri": "https://localhost:8080/"
        }
      },
      "outputs": [
        {
          "output_type": "execute_result",
          "data": {
            "text/plain": [
              "2"
            ]
          },
          "metadata": {},
          "execution_count": 3
        }
      ],
      "source": [
        "# add two integers\n",
        "1 + 1"
      ]
    },
    {
      "cell_type": "code",
      "execution_count": 4,
      "metadata": {
        "id": "abMVx1wQPsKN",
        "jupyter": {
          "outputs_hidden": false
        },
        "outputId": "c0f2cccb-dde5-42de-8de7-71d05439d0c0",
        "colab": {
          "base_uri": "https://localhost:8080/"
        }
      },
      "outputs": [
        {
          "output_type": "execute_result",
          "data": {
            "text/plain": [
              "6"
            ]
          },
          "metadata": {},
          "execution_count": 4
        }
      ],
      "source": [
        "# multiply two integers\n",
        "2 * 3"
      ]
    },
    {
      "cell_type": "code",
      "execution_count": 5,
      "metadata": {
        "id": "9KRa52uUPsKN",
        "jupyter": {
          "outputs_hidden": false
        },
        "outputId": "c901927d-39ad-49c8-9493-a3b4302e0694",
        "colab": {
          "base_uri": "https://localhost:8080/"
        }
      },
      "outputs": [
        {
          "output_type": "execute_result",
          "data": {
            "text/plain": [
              "6"
            ]
          },
          "metadata": {},
          "execution_count": 5
        }
      ],
      "source": [
        "# spaces don't matter here, but keep them consistent for readability (...and they will matter momentarily)\n",
        "2 * 3"
      ]
    },
    {
      "cell_type": "code",
      "execution_count": 6,
      "metadata": {
        "id": "n31K3XyNPsKN",
        "jupyter": {
          "outputs_hidden": false
        },
        "outputId": "9544b689-140c-43bd-93b7-08c3fec215c5",
        "colab": {
          "base_uri": "https://localhost:8080/"
        }
      },
      "outputs": [
        {
          "output_type": "execute_result",
          "data": {
            "text/plain": [
              "2.0"
            ]
          },
          "metadata": {},
          "execution_count": 6
        }
      ],
      "source": [
        "# divide two integers\n",
        "10 / 5"
      ]
    },
    {
      "cell_type": "code",
      "execution_count": 7,
      "metadata": {
        "id": "hjydVhqoPsKN",
        "jupyter": {
          "outputs_hidden": false
        },
        "outputId": "cd0e4ac8-4413-459b-c951-b5a090f10770",
        "colab": {
          "base_uri": "https://localhost:8080/"
        }
      },
      "outputs": [
        {
          "output_type": "execute_result",
          "data": {
            "text/plain": [
              "16"
            ]
          },
          "metadata": {},
          "execution_count": 7
        }
      ],
      "source": [
        "# raise 2 to the 4th power\n",
        "2**4"
      ]
    },
    {
      "cell_type": "code",
      "execution_count": 8,
      "metadata": {
        "id": "HOnwrgFCPsKO",
        "jupyter": {
          "outputs_hidden": false
        },
        "outputId": "5cfcc158-609e-4e75-e939-af8eacf713a2",
        "colab": {
          "base_uri": "https://localhost:8080/"
        }
      },
      "outputs": [
        {
          "output_type": "execute_result",
          "data": {
            "text/plain": [
              "3.0"
            ]
          },
          "metadata": {},
          "execution_count": 8
        }
      ],
      "source": [
        "# take the square root of 9 (by raising it to the power of 0.5). notice the order of operations.\n",
        "9 ** (1 / 2)"
      ]
    },
    {
      "cell_type": "code",
      "execution_count": 9,
      "metadata": {
        "id": "nkYcFRI8PsKO"
      },
      "outputs": [],
      "source": [
        "# now you try\n",
        "# in a single line, divide the sum of ninety plus seventy by the product of twelve and eleven"
      ]
    },
    {
      "cell_type": "code",
      "source": [
        "(90 + 70) / (12 * 11)"
      ],
      "metadata": {
        "id": "CJF_pKK2HeXB",
        "outputId": "87e68958-5d52-4ddb-f47a-76fd7be38cd6",
        "colab": {
          "base_uri": "https://localhost:8080/"
        }
      },
      "execution_count": 27,
      "outputs": [
        {
          "output_type": "execute_result",
          "data": {
            "text/plain": [
              "1.2121212121212122"
            ]
          },
          "metadata": {},
          "execution_count": 27
        }
      ]
    },
    {
      "cell_type": "markdown",
      "metadata": {
        "id": "Lt_Ou01nPsKO"
      },
      "source": [
        "## Working with variables"
      ]
    },
    {
      "cell_type": "code",
      "execution_count": 10,
      "metadata": {
        "id": "yKu7_cexPsKO",
        "jupyter": {
          "outputs_hidden": false
        }
      },
      "outputs": [],
      "source": [
        "# variables, such as x here, contain values and their values can vary\n",
        "x = 5"
      ]
    },
    {
      "cell_type": "code",
      "execution_count": 11,
      "metadata": {
        "id": "uB83N6N0PsKO",
        "jupyter": {
          "outputs_hidden": false
        },
        "outputId": "8596c113-eeb2-4383-aa63-def2adba0ed0",
        "colab": {
          "base_uri": "https://localhost:8080/"
        }
      },
      "outputs": [
        {
          "output_type": "execute_result",
          "data": {
            "text/plain": [
              "5"
            ]
          },
          "metadata": {},
          "execution_count": 11
        }
      ],
      "source": [
        "# what is the value of x?\n",
        "x"
      ]
    },
    {
      "cell_type": "code",
      "execution_count": 12,
      "metadata": {
        "id": "8dBCHO2uPsKO",
        "jupyter": {
          "outputs_hidden": false
        },
        "outputId": "4cb0c33d-4bf0-465a-c004-adf2d6eb32b7",
        "colab": {
          "base_uri": "https://localhost:8080/"
        }
      },
      "outputs": [
        {
          "output_type": "execute_result",
          "data": {
            "text/plain": [
              "8"
            ]
          },
          "metadata": {},
          "execution_count": 12
        }
      ],
      "source": [
        "# you can perform operations on variables, just like you can on two numbers\n",
        "x + 3"
      ]
    },
    {
      "cell_type": "code",
      "execution_count": 13,
      "metadata": {
        "id": "qqamtgtqPsKP",
        "jupyter": {
          "outputs_hidden": false
        },
        "outputId": "7c58d6fa-0156-4b58-a90e-be0ca082260d",
        "colab": {
          "base_uri": "https://localhost:8080/"
        }
      },
      "outputs": [
        {
          "output_type": "execute_result",
          "data": {
            "text/plain": [
              "5"
            ]
          },
          "metadata": {},
          "execution_count": 13
        }
      ],
      "source": [
        "# what is the value of x now?\n",
        "x"
      ]
    },
    {
      "cell_type": "code",
      "execution_count": 14,
      "metadata": {
        "id": "dTwMTwo8PsKP",
        "jupyter": {
          "outputs_hidden": false
        }
      },
      "outputs": [],
      "source": [
        "# to update the value of a variable, you need to do an assignment again\n",
        "x = x + 3"
      ]
    },
    {
      "cell_type": "code",
      "execution_count": 15,
      "metadata": {
        "id": "u43vuMbYPsKP",
        "jupyter": {
          "outputs_hidden": false
        },
        "outputId": "454f2cea-4880-4313-c627-e1e5c3d0922d",
        "colab": {
          "base_uri": "https://localhost:8080/"
        }
      },
      "outputs": [
        {
          "output_type": "execute_result",
          "data": {
            "text/plain": [
              "8"
            ]
          },
          "metadata": {},
          "execution_count": 15
        }
      ],
      "source": [
        "# and now what is the value of x?\n",
        "x"
      ]
    },
    {
      "cell_type": "code",
      "execution_count": 16,
      "metadata": {
        "id": "lFBKiG9zPsKP",
        "jupyter": {
          "outputs_hidden": false
        },
        "outputId": "d8a8743e-4f22-428b-c818-a1edbf3c0dc6",
        "colab": {
          "base_uri": "https://localhost:8080/"
        }
      },
      "outputs": [
        {
          "output_type": "execute_result",
          "data": {
            "text/plain": [
              "10"
            ]
          },
          "metadata": {},
          "execution_count": 16
        }
      ],
      "source": [
        "# create a new variable y from an operation on x\n",
        "x = 5\n",
        "y = x * 2\n",
        "y"
      ]
    },
    {
      "cell_type": "code",
      "execution_count": 17,
      "metadata": {
        "id": "4zVXWdQoPsKP",
        "jupyter": {
          "outputs_hidden": false
        },
        "outputId": "9996954b-1624-445a-cf37-d7ce27e99d6b",
        "colab": {
          "base_uri": "https://localhost:8080/"
        }
      },
      "outputs": [
        {
          "output_type": "execute_result",
          "data": {
            "text/plain": [
              "10"
            ]
          },
          "metadata": {},
          "execution_count": 17
        }
      ],
      "source": [
        "# outputting values only displays the last thing output\n",
        "# this is different from printing! it is kinda confusing!\n",
        "x\n",
        "y"
      ]
    },
    {
      "cell_type": "code",
      "execution_count": 18,
      "metadata": {
        "id": "YcEMwlRTPsKP",
        "jupyter": {
          "outputs_hidden": false
        },
        "outputId": "da8a81d2-5908-4c77-e672-af5d1c4ace3c",
        "colab": {
          "base_uri": "https://localhost:8080/"
        }
      },
      "outputs": [
        {
          "output_type": "stream",
          "name": "stdout",
          "text": [
            "5\n",
            "10\n"
          ]
        }
      ],
      "source": [
        "# use print to write some value(s) to the \"console\"\n",
        "print(x)\n",
        "print(y)"
      ]
    },
    {
      "cell_type": "code",
      "execution_count": 19,
      "metadata": {
        "id": "_DwCsaaYPsKP",
        "jupyter": {
          "outputs_hidden": false
        },
        "outputId": "35686259-c66a-4aba-9ef9-ab1cd9dad79a",
        "colab": {
          "base_uri": "https://localhost:8080/"
        }
      },
      "outputs": [
        {
          "output_type": "stream",
          "name": "stdout",
          "text": [
            "5 10\n"
          ]
        }
      ],
      "source": [
        "# you can comma-separate values to print multiple values to the console on one line\n",
        "print(x, y)"
      ]
    },
    {
      "cell_type": "code",
      "execution_count": 20,
      "metadata": {
        "id": "mp6ie-xjPsKP",
        "jupyter": {
          "outputs_hidden": false
        },
        "outputId": "91495abb-4b48-4e54-ba2e-41b059770480",
        "colab": {
          "base_uri": "https://localhost:8080/"
        }
      },
      "outputs": [
        {
          "output_type": "stream",
          "name": "stdout",
          "text": [
            "50\n"
          ]
        }
      ],
      "source": [
        "# you can also print the result of an expression\n",
        "print(x * y)"
      ]
    },
    {
      "cell_type": "code",
      "execution_count": 29,
      "metadata": {
        "id": "G5cBgsQ1PsKP"
      },
      "outputs": [],
      "source": [
        "# now it's your turn\n",
        "# in a single line, create a new variable z and set it equal to x divided the sum of x plus y"
      ]
    },
    {
      "cell_type": "code",
      "source": [
        "z = x / (x + y)\n",
        "print (z)\n"
      ],
      "metadata": {
        "id": "JIZ3VpRwN8w0",
        "outputId": "af80a039-8a32-4bda-ebda-59938c3ff9d0",
        "colab": {
          "base_uri": "https://localhost:8080/"
        }
      },
      "execution_count": 31,
      "outputs": [
        {
          "output_type": "stream",
          "name": "stdout",
          "text": [
            "0.3333333333333333\n"
          ]
        }
      ]
    },
    {
      "cell_type": "markdown",
      "metadata": {
        "id": "pnVOS41WPsKQ"
      },
      "source": [
        "## Getting help"
      ]
    },
    {
      "cell_type": "code",
      "execution_count": 33,
      "metadata": {
        "id": "aB08-P-GPsKQ",
        "jupyter": {
          "outputs_hidden": false
        },
        "outputId": "2913335d-020e-43e1-f274-6f8475bb4111",
        "colab": {
          "base_uri": "https://localhost:8080/"
        }
      },
      "outputs": [
        {
          "output_type": "execute_result",
          "data": {
            "text/plain": [
              "7"
            ]
          },
          "metadata": {},
          "execution_count": 33
        }
      ],
      "source": [
        "# ask ipython for it by using '?'\n",
        "len('lasanga')"
      ]
    },
    {
      "cell_type": "code",
      "execution_count": 34,
      "metadata": {
        "id": "BGiG-odMPsKQ",
        "jupyter": {
          "outputs_hidden": false
        },
        "outputId": "0b3ce78b-5384-4063-b714-6deb28556d1c",
        "colab": {
          "base_uri": "https://localhost:8080/"
        }
      },
      "outputs": [
        {
          "output_type": "stream",
          "name": "stdout",
          "text": [
            "\n"
          ]
        }
      ],
      "source": [
        "# use tab-completion to fill in the rest of statements, functions, methods\n",
        "print()"
      ]
    },
    {
      "cell_type": "code",
      "execution_count": null,
      "metadata": {
        "id": "10NORonLPsKQ",
        "jupyter": {
          "outputs_hidden": false
        }
      },
      "outputs": [],
      "source": [
        "# tab-completion also works with variables you have created (ie, a variable in memory)\n",
        "number_of_students = 10"
      ]
    },
    {
      "cell_type": "code",
      "execution_count": 35,
      "metadata": {
        "id": "4vGj1P9aPsKQ",
        "jupyter": {
          "outputs_hidden": false
        },
        "outputId": "4d1b8654-d780-40eb-d7a1-61f7783680b8",
        "colab": {
          "base_uri": "https://localhost:8080/",
          "height": 144
        }
      },
      "outputs": [
        {
          "output_type": "error",
          "ename": "NameError",
          "evalue": "name 'number_of_students' is not defined",
          "traceback": [
            "\u001b[0;31m---------------------------------------------------------------------------\u001b[0m",
            "\u001b[0;31mNameError\u001b[0m                                 Traceback (most recent call last)",
            "\u001b[0;32m/tmp/ipython-input-1622385246.py\u001b[0m in \u001b[0;36m<cell line: 0>\u001b[0;34m()\u001b[0m\n\u001b[0;32m----> 1\u001b[0;31m \u001b[0mnumber_of_students\u001b[0m\u001b[0;34m\u001b[0m\u001b[0;34m\u001b[0m\u001b[0m\n\u001b[0m",
            "\u001b[0;31mNameError\u001b[0m: name 'number_of_students' is not defined"
          ]
        }
      ],
      "source": [
        "number_of_students"
      ]
    },
    {
      "cell_type": "code",
      "execution_count": 36,
      "metadata": {
        "id": "u84JISyoPsKQ",
        "jupyter": {
          "outputs_hidden": false
        },
        "outputId": "5cb05adb-892b-4db1-f2ce-6716189c8e4f",
        "colab": {
          "base_uri": "https://localhost:8080/",
          "height": 162
        }
      },
      "outputs": [
        {
          "output_type": "error",
          "ename": "ZeroDivisionError",
          "evalue": "division by zero",
          "traceback": [
            "\u001b[0;31m---------------------------------------------------------------------------\u001b[0m",
            "\u001b[0;31mZeroDivisionError\u001b[0m                         Traceback (most recent call last)",
            "\u001b[0;32m/tmp/ipython-input-752510985.py\u001b[0m in \u001b[0;36m<cell line: 0>\u001b[0;34m()\u001b[0m\n\u001b[1;32m      1\u001b[0m \u001b[0;31m# what about errors? you can't divide by zero...\u001b[0m\u001b[0;34m\u001b[0m\u001b[0;34m\u001b[0m\u001b[0m\n\u001b[0;32m----> 2\u001b[0;31m \u001b[0;36m12\u001b[0m \u001b[0;34m/\u001b[0m \u001b[0;36m0\u001b[0m\u001b[0;34m\u001b[0m\u001b[0;34m\u001b[0m\u001b[0m\n\u001b[0m",
            "\u001b[0;31mZeroDivisionError\u001b[0m: division by zero"
          ]
        }
      ],
      "source": [
        "# what about errors? you can't divide by zero...\n",
        "12 / 0"
      ]
    },
    {
      "cell_type": "markdown",
      "metadata": {
        "id": "8ccYeqGXPsKQ"
      },
      "source": [
        "How do you read that \"traceback\" message?\n",
        "\n",
        "For syntax errors or how to do something, Google it! (This is literally 90% of my job...)\n",
        "\n",
        "Also, StackOverflow is a particularly good site for code snippets and troubleshooting: https://stackoverflow.com/"
      ]
    },
    {
      "cell_type": "markdown",
      "metadata": {
        "id": "alCqOGwePsKQ"
      },
      "source": [
        "## Basic data types"
      ]
    },
    {
      "cell_type": "markdown",
      "metadata": {
        "id": "vZ4eIR_KPsKQ"
      },
      "source": [
        "Data in Python is interpreted as having a **type**.  In low-level, compiled languages like C or C++, the programmer has to explicitly declare the type of each variable before actually using it.  In Python, the type is inferred at run time, and you can always ask Python what the type of an object is:"
      ]
    },
    {
      "cell_type": "code",
      "execution_count": null,
      "metadata": {
        "id": "TYS6eKiOPsKQ",
        "jupyter": {
          "outputs_hidden": false
        }
      },
      "outputs": [],
      "source": [
        "# integers are whole numbers\n",
        "type(125)\n",
        "\n",
        "int"
      ]
    },
    {
      "cell_type": "code",
      "execution_count": null,
      "metadata": {
        "id": "ueXttL-uPsKQ",
        "jupyter": {
          "outputs_hidden": false
        }
      },
      "outputs": [],
      "source": [
        "# every variable has a data type, and they can be of any type\n",
        "x = 125\n",
        "type(x)"
      ]
    },
    {
      "cell_type": "code",
      "execution_count": 39,
      "metadata": {
        "id": "DdwvAnXAPsKR",
        "outputId": "e0304ee0-ad4f-4104-c95f-318f6f3dba74",
        "colab": {
          "base_uri": "https://localhost:8080/"
        }
      },
      "outputs": [
        {
          "output_type": "execute_result",
          "data": {
            "text/plain": [
              "False"
            ]
          },
          "metadata": {},
          "execution_count": 39
        }
      ],
      "source": [
        "isinstance(x, float)"
      ]
    },
    {
      "cell_type": "code",
      "execution_count": null,
      "metadata": {
        "id": "fvXLinJsPsKR",
        "jupyter": {
          "outputs_hidden": false
        }
      },
      "outputs": [],
      "source": [
        "# float is a floating point (aka decimal) number\n",
        "some_rate = 4.3\n",
        "type(some_rate)"
      ]
    },
    {
      "cell_type": "code",
      "execution_count": null,
      "metadata": {
        "id": "bfpu2EM2PsKR"
      },
      "outputs": [],
      "source": [
        "isinstance(some_rate, int)"
      ]
    },
    {
      "cell_type": "code",
      "execution_count": 40,
      "metadata": {
        "id": "8ccD1FCaPsKS",
        "outputId": "27cdcadb-1700-4548-e52d-ab2a5eca10a9",
        "colab": {
          "base_uri": "https://localhost:8080/"
        }
      },
      "outputs": [
        {
          "output_type": "execute_result",
          "data": {
            "text/plain": [
              "True"
            ]
          },
          "metadata": {},
          "execution_count": 40
        }
      ],
      "source": [
        "# you can change a variable's type by re-assigning it\n",
        "some_rate = 125\n",
        "isinstance(some_rate, int)"
      ]
    },
    {
      "cell_type": "code",
      "execution_count": null,
      "metadata": {
        "id": "42OmaoNpPsKS",
        "jupyter": {
          "outputs_hidden": false
        }
      },
      "outputs": [],
      "source": [
        "# strings are \"strings\" of characters\n",
        "s = \"600 Wilshire Blvd\"\n",
        "type(s)"
      ]
    },
    {
      "cell_type": "code",
      "execution_count": 42,
      "metadata": {
        "id": "ITmBXI8WPsKS",
        "jupyter": {
          "outputs_hidden": false
        },
        "outputId": "01e42539-325b-4075-a243-7a7f2fa7f33a",
        "colab": {
          "base_uri": "https://localhost:8080/"
        }
      },
      "outputs": [
        {
          "output_type": "execute_result",
          "data": {
            "text/plain": [
              "[1, 2, 3, 4]"
            ]
          },
          "metadata": {},
          "execution_count": 42
        }
      ],
      "source": [
        "# a list is a collection of elements denoted by square brackets\n",
        "# it knows it's a list because of those brackets\n",
        "my_list = [1, 2, 3, 4]\n",
        "my_list"
      ]
    },
    {
      "cell_type": "code",
      "execution_count": 43,
      "metadata": {
        "id": "Rcugg9FKPsKS",
        "jupyter": {
          "outputs_hidden": false
        },
        "outputId": "dc0b92d0-b5e0-4c4d-c4e1-427db970094f",
        "colab": {
          "base_uri": "https://localhost:8080/"
        }
      },
      "outputs": [
        {
          "output_type": "execute_result",
          "data": {
            "text/plain": [
              "list"
            ]
          },
          "metadata": {},
          "execution_count": 43
        }
      ],
      "source": [
        "type(my_list)"
      ]
    },
    {
      "cell_type": "code",
      "execution_count": 44,
      "metadata": {
        "id": "gTBF9Kw0PsKS",
        "jupyter": {
          "outputs_hidden": false
        },
        "outputId": "7d4ca6b2-413a-4c33-9b6e-24af54546f86",
        "colab": {
          "base_uri": "https://localhost:8080/"
        }
      },
      "outputs": [
        {
          "output_type": "execute_result",
          "data": {
            "text/plain": [
              "{'first_name': 'Geoff', 'last_name': 'Boeing'}"
            ]
          },
          "metadata": {},
          "execution_count": 44
        }
      ],
      "source": [
        "# a dictionary is a collection of key:value pairs, denoted by curly braces\n",
        "person = {\"first_name\": \"Geoff\", \"last_name\": \"Boeing\"}\n",
        "person"
      ]
    },
    {
      "cell_type": "code",
      "execution_count": 45,
      "metadata": {
        "id": "CA_TcUyPPsKS",
        "jupyter": {
          "outputs_hidden": false
        },
        "outputId": "d76fe050-2c2a-4e38-c9fc-1085469b19ae",
        "colab": {
          "base_uri": "https://localhost:8080/"
        }
      },
      "outputs": [
        {
          "output_type": "execute_result",
          "data": {
            "text/plain": [
              "dict"
            ]
          },
          "metadata": {},
          "execution_count": 45
        }
      ],
      "source": [
        "type(person)"
      ]
    },
    {
      "cell_type": "code",
      "execution_count": 49,
      "metadata": {
        "id": "1CKfXhdsPsKS",
        "outputId": "081b50d9-0196-459d-8cb2-8fdb151ffb5d",
        "colab": {
          "base_uri": "https://localhost:8080/"
        }
      },
      "outputs": [
        {
          "output_type": "execute_result",
          "data": {
            "text/plain": [
              "dict"
            ]
          },
          "metadata": {},
          "execution_count": 49
        }
      ],
      "source": [
        "# now you try\n",
        "# create a new dict variable containing the individual components of your home address\n",
        "\n",
        "address = {\"address_num\": \"31\", \"address_name\": \"Spooner Street\", \"city\": \"Quahog\", \"state\": \"Rhode Island\"}\n",
        "type(address)"
      ]
    },
    {
      "cell_type": "markdown",
      "metadata": {
        "id": "4_6SrY94PsKS"
      },
      "source": [
        "## Working with data types"
      ]
    },
    {
      "cell_type": "code",
      "execution_count": null,
      "metadata": {
        "id": "LgRXE8wBPsKT",
        "jupyter": {
          "outputs_hidden": false
        }
      },
      "outputs": [],
      "source": [
        "# divide 2 integers\n",
        "num1 = 8\n",
        "num2 = 5\n",
        "num1 / num2"
      ]
    },
    {
      "cell_type": "code",
      "execution_count": 51,
      "metadata": {
        "id": "2mcQ4p1cPsKT",
        "jupyter": {
          "outputs_hidden": false
        },
        "outputId": "40c8318e-ef84-4d56-a9e2-8dd3421b0161",
        "colab": {
          "base_uri": "https://localhost:8080/"
        }
      },
      "outputs": [
        {
          "output_type": "execute_result",
          "data": {
            "text/plain": [
              "2.0"
            ]
          },
          "metadata": {},
          "execution_count": 51
        }
      ],
      "source": [
        "# divide 2 integers (produces a float result consistently)\n",
        "num1 = 10\n",
        "num2 = 5\n",
        "num1 / num2"
      ]
    },
    {
      "cell_type": "code",
      "execution_count": 53,
      "metadata": {
        "id": "ZpcDnhKvPsKT",
        "jupyter": {
          "outputs_hidden": false
        },
        "outputId": "f929682f-e52e-4645-c033-cd82cd018c4c",
        "colab": {
          "base_uri": "https://localhost:8080/"
        }
      },
      "outputs": [
        {
          "output_type": "stream",
          "name": "stdout",
          "text": [
            "<class 'float'>\n",
            "<class 'int'>\n",
            "<class 'float'>\n"
          ]
        },
        {
          "output_type": "execute_result",
          "data": {
            "text/plain": [
              "1.6"
            ]
          },
          "metadata": {},
          "execution_count": 53
        }
      ],
      "source": [
        "# check the data types as we go along by printing them\n",
        "# very useful for tracking progress as your code runs!\n",
        "num1 = 8.0\n",
        "print(type(num1))\n",
        "\n",
        "num2 = 5\n",
        "print(type(num2))\n",
        "\n",
        "num3 = num1 / num2\n",
        "print(type(num3))\n",
        "\n",
        "num3"
      ]
    },
    {
      "cell_type": "markdown",
      "metadata": {
        "id": "Dv2P6xN9PsKT"
      },
      "source": [
        "## Strings"
      ]
    },
    {
      "cell_type": "code",
      "execution_count": 68,
      "metadata": {
        "id": "zVwOtaAHPsKT",
        "jupyter": {
          "outputs_hidden": false
        },
        "outputId": "28682e69-7432-4637-b8a1-eb8cbdbb9755",
        "colab": {
          "base_uri": "https://localhost:8080/"
        }
      },
      "outputs": [
        {
          "output_type": "stream",
          "name": "stdout",
          "text": [
            "Los Angeles, CA 90089\n"
          ]
        }
      ],
      "source": [
        "# some of the operators we saw earlier work on strings\n",
        "city = \"Los Angeles\"\n",
        "sep = \", \"\n",
        "state = \"CA\"\n",
        "zip_code = \"90089\"\n",
        "\n",
        "# you can \"concatenate\" strings with the + operator\n",
        "location = city + sep + state + \" \" + zip_code\n",
        "print(location)"
      ]
    },
    {
      "cell_type": "code",
      "execution_count": null,
      "metadata": {
        "id": "cZfYOWUHPsKT",
        "jupyter": {
          "outputs_hidden": false
        }
      },
      "outputs": [],
      "source": [
        "# error\n",
        "zip_code = 02115"
      ]
    },
    {
      "cell_type": "code",
      "execution_count": null,
      "metadata": {
        "id": "liZeGuCuPsKU"
      },
      "outputs": [],
      "source": [
        "# the zip code 02115 isn't actually a number, it's a string of numeric characters\n",
        "# important to remember! zip codes aren't numeric, they are strings!\n",
        "zip_code = \"02115\""
      ]
    },
    {
      "cell_type": "code",
      "execution_count": 55,
      "metadata": {
        "id": "p_qEn_FdPsKU",
        "jupyter": {
          "outputs_hidden": false
        },
        "outputId": "e931aae6-a41b-47da-d863-3202bd304ec7",
        "colab": {
          "base_uri": "https://localhost:8080/",
          "height": 35
        }
      },
      "outputs": [
        {
          "output_type": "execute_result",
          "data": {
            "text/plain": [
              "'900899008990089'"
            ],
            "application/vnd.google.colaboratory.intrinsic+json": {
              "type": "string"
            }
          },
          "metadata": {},
          "execution_count": 55
        }
      ],
      "source": [
        "# multiplying a string just duplicates it\n",
        "zip_code * 3"
      ]
    },
    {
      "cell_type": "code",
      "execution_count": 56,
      "metadata": {
        "id": "b1s2PMvaPsKU",
        "jupyter": {
          "outputs_hidden": false
        },
        "outputId": "e2ef2e5b-95ea-4eda-a94c-de6e7655a24f",
        "colab": {
          "base_uri": "https://localhost:8080/",
          "height": 53
        }
      },
      "outputs": [
        {
          "output_type": "stream",
          "name": "stdout",
          "text": [
            "Los Angeles, CA 90089\n"
          ]
        },
        {
          "output_type": "execute_result",
          "data": {
            "text/plain": [
              "'L'"
            ],
            "application/vnd.google.colaboratory.intrinsic+json": {
              "type": "string"
            }
          },
          "metadata": {},
          "execution_count": 56
        }
      ],
      "source": [
        "# you can get the nth element from an iterable object (like a string) with [n] indexing notation\n",
        "# remember, in Python the index starts with zero not one\n",
        "print(location)\n",
        "location[0]"
      ]
    },
    {
      "cell_type": "code",
      "execution_count": 57,
      "metadata": {
        "id": "EKRuizt4PsKU",
        "outputId": "d307fcef-3555-47b2-bc45-a7d277682f70",
        "colab": {
          "base_uri": "https://localhost:8080/"
        }
      },
      "outputs": [
        {
          "output_type": "stream",
          "name": "stdout",
          "text": [
            "L\n",
            "o\n",
            "s\n"
          ]
        }
      ],
      "source": [
        "print(location[0])\n",
        "print(location[1])\n",
        "print(location[2])"
      ]
    },
    {
      "cell_type": "code",
      "execution_count": 58,
      "metadata": {
        "id": "IL-bkmiOPsKU",
        "jupyter": {
          "outputs_hidden": false
        },
        "outputId": "43cd1c25-c9fe-4850-cf6c-36d3b81f4c49",
        "colab": {
          "base_uri": "https://localhost:8080/"
        }
      },
      "outputs": [
        {
          "output_type": "execute_result",
          "data": {
            "text/plain": [
              "21"
            ]
          },
          "metadata": {},
          "execution_count": 58
        }
      ],
      "source": [
        "# how many characters are in this string? use len function\n",
        "len(location)"
      ]
    },
    {
      "cell_type": "code",
      "execution_count": 63,
      "metadata": {
        "id": "KU-s6Hw9PsKU",
        "jupyter": {
          "outputs_hidden": false
        },
        "outputId": "4302f550-7794-4f0f-9c13-ffaced18a7e9",
        "colab": {
          "base_uri": "https://localhost:8080/",
          "height": 35
        }
      },
      "outputs": [
        {
          "output_type": "execute_result",
          "data": {
            "text/plain": [
              "'Los Angeles, CA 90089'"
            ],
            "application/vnd.google.colaboratory.intrinsic+json": {
              "type": "string"
            }
          },
          "metadata": {},
          "execution_count": 63
        }
      ],
      "source": [
        "# get a substring from some position up to but not including a second position\n",
        "location[:4] + location[4:7] + location[7:]"
      ]
    },
    {
      "cell_type": "code",
      "execution_count": 61,
      "metadata": {
        "id": "TRCg-2f0PsKU",
        "jupyter": {
          "outputs_hidden": false
        },
        "outputId": "df08a52d-4738-4e8c-fb29-ce900bec3843",
        "colab": {
          "base_uri": "https://localhost:8080/",
          "height": 35
        }
      },
      "outputs": [
        {
          "output_type": "execute_result",
          "data": {
            "text/plain": [
              "'Los A'"
            ],
            "application/vnd.google.colaboratory.intrinsic+json": {
              "type": "string"
            }
          },
          "metadata": {},
          "execution_count": 61
        }
      ],
      "source": [
        "# get the first n characters from the string\n",
        "location[:5]"
      ]
    },
    {
      "cell_type": "code",
      "execution_count": 64,
      "metadata": {
        "id": "mJztlJ0NPsKV",
        "jupyter": {
          "outputs_hidden": false
        },
        "outputId": "dfef34fc-835e-4542-e152-5983b3722b0a",
        "colab": {
          "base_uri": "https://localhost:8080/",
          "height": 35
        }
      },
      "outputs": [
        {
          "output_type": "execute_result",
          "data": {
            "text/plain": [
              "'ngeles, CA 90089'"
            ],
            "application/vnd.google.colaboratory.intrinsic+json": {
              "type": "string"
            }
          },
          "metadata": {},
          "execution_count": 64
        }
      ],
      "source": [
        "# get the characters from the string after the nth position\n",
        "location[5:]"
      ]
    },
    {
      "cell_type": "code",
      "execution_count": 65,
      "metadata": {
        "id": "XEdSISkWPsKV",
        "outputId": "141c0593-a5a8-44f2-d9bf-d7578f6b7c8e",
        "colab": {
          "base_uri": "https://localhost:8080/",
          "height": 35
        }
      },
      "outputs": [
        {
          "output_type": "execute_result",
          "data": {
            "text/plain": [
              "'CA 90089'"
            ],
            "application/vnd.google.colaboratory.intrinsic+json": {
              "type": "string"
            }
          },
          "metadata": {},
          "execution_count": 65
        }
      ],
      "source": [
        "# get the final n characters from the string\n",
        "location[-8:]"
      ]
    },
    {
      "cell_type": "code",
      "execution_count": 66,
      "metadata": {
        "id": "xrtEsociPsKV",
        "jupyter": {
          "outputs_hidden": false
        },
        "outputId": "c1d76c2d-7023-4e9b-a397-e782eb94fe1a",
        "colab": {
          "base_uri": "https://localhost:8080/",
          "height": 35
        }
      },
      "outputs": [
        {
          "output_type": "execute_result",
          "data": {
            "text/plain": [
              "'Los AngElEs, CA 90089'"
            ],
            "application/vnd.google.colaboratory.intrinsic+json": {
              "type": "string"
            }
          },
          "metadata": {},
          "execution_count": 66
        }
      ],
      "source": [
        "# you can replace characters in a string with the replace() method\n",
        "location.replace(\"e\", \"E\")"
      ]
    },
    {
      "cell_type": "code",
      "execution_count": 67,
      "metadata": {
        "id": "gB1EnkktPsKV",
        "outputId": "5bc6b198-27d2-4fe1-fefd-0a0c4baddbd7",
        "colab": {
          "base_uri": "https://localhost:8080/",
          "height": 35
        }
      },
      "outputs": [
        {
          "output_type": "execute_result",
          "data": {
            "text/plain": [
              "'LsA'"
            ],
            "application/vnd.google.colaboratory.intrinsic+json": {
              "type": "string"
            }
          },
          "metadata": {},
          "execution_count": 67
        }
      ],
      "source": [
        "# now it's your turn\n",
        "# create a new string from the 1st, 3rd, and 5th characters in location\n",
        "\n",
        "location[0] + location[2] + location[4]"
      ]
    },
    {
      "cell_type": "markdown",
      "metadata": {
        "id": "hFrReZNnPsKV"
      },
      "source": [
        "## Converting between types"
      ]
    },
    {
      "cell_type": "code",
      "execution_count": null,
      "metadata": {
        "id": "FUv3WI4sPsKV",
        "jupyter": {
          "outputs_hidden": false
        }
      },
      "outputs": [],
      "source": [
        "zip_code"
      ]
    },
    {
      "cell_type": "code",
      "execution_count": null,
      "metadata": {
        "id": "AJTCBPUbPsKV",
        "jupyter": {
          "outputs_hidden": false
        }
      },
      "outputs": [],
      "source": [
        "# you can convert between data types\n",
        "type(zip_code)"
      ]
    },
    {
      "cell_type": "code",
      "execution_count": null,
      "metadata": {
        "id": "vxwApbRbPsKV",
        "jupyter": {
          "outputs_hidden": false
        }
      },
      "outputs": [],
      "source": [
        "# convert the zip code string to an integer\n",
        "zip_code = int(zip_code)\n",
        "zip_code"
      ]
    },
    {
      "cell_type": "code",
      "execution_count": null,
      "metadata": {
        "id": "B7FpCksmPsKW",
        "jupyter": {
          "outputs_hidden": false
        }
      },
      "outputs": [],
      "source": [
        "type(zip_code)"
      ]
    },
    {
      "cell_type": "code",
      "execution_count": null,
      "metadata": {
        "id": "e16aFaW4PsKW",
        "jupyter": {
          "outputs_hidden": false
        }
      },
      "outputs": [],
      "source": [
        "# the math works better now\n",
        "zip_code * 2"
      ]
    },
    {
      "cell_type": "code",
      "execution_count": null,
      "metadata": {
        "id": "6HvcmO3cPsKW",
        "jupyter": {
          "outputs_hidden": false
        }
      },
      "outputs": [],
      "source": [
        "x = 3\n",
        "print(x * 2)\n",
        "y = str(x)\n",
        "print(y * 2)"
      ]
    },
    {
      "cell_type": "code",
      "execution_count": null,
      "metadata": {
        "id": "NKPEVBufPsKW",
        "jupyter": {
          "outputs_hidden": false
        }
      },
      "outputs": [],
      "source": [
        "# the int function won't convert a string that looks like a floating point number\n",
        "rent_str = \"2500.00\"\n",
        "rent_int = int(rent_str)"
      ]
    },
    {
      "cell_type": "code",
      "execution_count": null,
      "metadata": {
        "id": "6eMQunH_PsKW",
        "jupyter": {
          "outputs_hidden": false
        }
      },
      "outputs": [],
      "source": [
        "# but you can daisy-chain functions together to convert the string to a float then to an int\n",
        "# the inner function executes then passes its value to the outer function\n",
        "rent_int = int(float(rent_str))\n",
        "rent_int"
      ]
    },
    {
      "cell_type": "code",
      "execution_count": null,
      "metadata": {
        "id": "60ZwgS_dPsKW",
        "jupyter": {
          "outputs_hidden": false
        }
      },
      "outputs": [],
      "source": [
        "# you cannot concatenate a string and a number\n",
        "city = \"Los Angeles \"\n",
        "zip_code = 90089\n",
        "city + zip_code"
      ]
    },
    {
      "cell_type": "code",
      "execution_count": null,
      "metadata": {
        "id": "GtipXtXqPsKW",
        "jupyter": {
          "outputs_hidden": false
        }
      },
      "outputs": [],
      "source": [
        "# so convert the number first, then concatenate\n",
        "city + str(zip_code)"
      ]
    },
    {
      "cell_type": "code",
      "execution_count": 73,
      "metadata": {
        "id": "WcxNUNvIPsKW",
        "outputId": "d5efebc4-17fd-4892-d499-f4dff9167f92",
        "colab": {
          "base_uri": "https://localhost:8080/"
        }
      },
      "outputs": [
        {
          "output_type": "stream",
          "name": "stdout",
          "text": [
            "90089\n"
          ]
        }
      ],
      "source": [
        "# now it's your turn\n",
        "# extract the zip code characters from the end of the \"location\" variable and convert to integer\n",
        "\n",
        "x = location[-5:]\n",
        "\n",
        "print(int(x))\n"
      ]
    },
    {
      "cell_type": "markdown",
      "metadata": {
        "id": "emiahin2PsKW"
      },
      "source": [
        "## Iterables: Lists, Tuples, Sets"
      ]
    },
    {
      "cell_type": "code",
      "execution_count": null,
      "metadata": {
        "id": "5FJK8bfTPsKW"
      },
      "outputs": [],
      "source": [
        "# first off, tuples are like lists, but immutable (you can't \"edit\" them in place)\n",
        "# they are denoted with parentheses\n",
        "my_tuple = (3, 2, 1, 2)\n",
        "my_tuple"
      ]
    },
    {
      "cell_type": "code",
      "execution_count": null,
      "metadata": {
        "id": "6JALXHW8PsKX"
      },
      "outputs": [],
      "source": [
        "# you can find the sum of an iterable with sum()\n",
        "sum(my_tuple)"
      ]
    },
    {
      "cell_type": "code",
      "execution_count": null,
      "metadata": {
        "id": "Mu6frw0nPsKX"
      },
      "outputs": [],
      "source": [
        "# a set contains only unique values\n",
        "# sets are denoted by curly braces (like dicts)... kinda confusing!\n",
        "set(my_tuple)"
      ]
    },
    {
      "cell_type": "code",
      "execution_count": null,
      "metadata": {
        "id": "8cVrUR7iPsKX"
      },
      "outputs": [],
      "source": [
        "# this is a list\n",
        "my_list = [2, 4, 6, 8]"
      ]
    },
    {
      "cell_type": "code",
      "execution_count": null,
      "metadata": {
        "id": "nBr_eW_2PsKX",
        "jupyter": {
          "outputs_hidden": false
        }
      },
      "outputs": [],
      "source": [
        "# how many elements are in this list?\n",
        "len(my_list)"
      ]
    },
    {
      "cell_type": "code",
      "execution_count": null,
      "metadata": {
        "id": "T4z7zMyYPsKX",
        "jupyter": {
          "outputs_hidden": false
        }
      },
      "outputs": [],
      "source": [
        "# get the zero-th element in a list\n",
        "my_list[0]"
      ]
    },
    {
      "cell_type": "code",
      "execution_count": null,
      "metadata": {
        "id": "H-sLW64rPsKX",
        "jupyter": {
          "outputs_hidden": false
        }
      },
      "outputs": [],
      "source": [
        "# you can update elements in a list because it is mutable\n",
        "my_list[2] = 100\n",
        "my_list"
      ]
    },
    {
      "cell_type": "code",
      "execution_count": null,
      "metadata": {
        "id": "nonqqzKPPsKX",
        "jupyter": {
          "outputs_hidden": false
        }
      },
      "outputs": [],
      "source": [
        "# add a new element with the append() method\n",
        "# lists can hold elements of varying data types\n",
        "my_list.append(\"hello\")\n",
        "my_list"
      ]
    },
    {
      "cell_type": "code",
      "execution_count": null,
      "metadata": {
        "id": "_kd5gl6qPsKX",
        "jupyter": {
          "outputs_hidden": false
        }
      },
      "outputs": [],
      "source": [
        "# you can also add lists to concatenate them\n",
        "[1, 2, 3] + [4, 5, 6]"
      ]
    },
    {
      "cell_type": "markdown",
      "metadata": {
        "id": "sAvacJqKPsKX"
      },
      "source": [
        "## Converting list elements"
      ]
    },
    {
      "cell_type": "code",
      "execution_count": 79,
      "metadata": {
        "id": "WL8UlPrLPsKY"
      },
      "outputs": [],
      "source": [
        "# objective: how do we convert a list of integer values into a list of equivalent string values?\n",
        "# in other words, how do we convert each element in a list to a different data type?\n",
        "# first, let's make a list containing the first 5 even numbers\n",
        "int_list = [2, 4, 6, 8, 10]"
      ]
    },
    {
      "cell_type": "code",
      "execution_count": 80,
      "metadata": {
        "id": "FOLSlqpePsKY",
        "outputId": "7fa5bc77-a52b-4da6-c753-bf9a3f6e1d20",
        "colab": {
          "base_uri": "https://localhost:8080/"
        }
      },
      "outputs": [
        {
          "output_type": "execute_result",
          "data": {
            "text/plain": [
              "5"
            ]
          },
          "metadata": {},
          "execution_count": 80
        }
      ],
      "source": [
        "# how many elements are in our list?\n",
        "len(int_list)"
      ]
    },
    {
      "cell_type": "code",
      "execution_count": 81,
      "metadata": {
        "id": "Zwm81_tgPsKY",
        "outputId": "7ed7891a-a500-445c-8ef6-557b41fe4794",
        "colab": {
          "base_uri": "https://localhost:8080/"
        }
      },
      "outputs": [
        {
          "output_type": "execute_result",
          "data": {
            "text/plain": [
              "2"
            ]
          },
          "metadata": {},
          "execution_count": 81
        }
      ],
      "source": [
        "# what is the value of the element in the zero-th position of the list?\n",
        "int_list[0]"
      ]
    },
    {
      "cell_type": "code",
      "execution_count": 82,
      "metadata": {
        "id": "311rvc0mPsKY",
        "outputId": "844286d9-0a78-4fa4-c30c-68a0779170c6",
        "colab": {
          "base_uri": "https://localhost:8080/"
        }
      },
      "outputs": [
        {
          "output_type": "execute_result",
          "data": {
            "text/plain": [
              "int"
            ]
          },
          "metadata": {},
          "execution_count": 82
        }
      ],
      "source": [
        "# what is the data type of this element in the zero-th position?\n",
        "type(int_list[0])"
      ]
    },
    {
      "cell_type": "code",
      "execution_count": null,
      "metadata": {
        "id": "Q-w6p_6MPsKY"
      },
      "outputs": [],
      "source": [
        "# let's convert that element from an int to a string using the str() function\n",
        "str(int_list[0])"
      ]
    },
    {
      "cell_type": "code",
      "execution_count": null,
      "metadata": {
        "id": "bCxhy5CFPsKY"
      },
      "outputs": [],
      "source": [
        "# let's check the data type that results from that str() function operating on our list element\n",
        "type(str(int_list[0]))"
      ]
    },
    {
      "cell_type": "code",
      "execution_count": null,
      "metadata": {
        "id": "bq7QiL0tPsKY"
      },
      "outputs": [],
      "source": [
        "# now we'll create a new list to contain the string versions of our integers\n",
        "str_list = []"
      ]
    },
    {
      "cell_type": "code",
      "execution_count": null,
      "metadata": {
        "id": "KF-QhgxNPsKY"
      },
      "outputs": [],
      "source": [
        "# now let's convert the element in the zero-th position of our int_list to a string\n",
        "# and append it to the new str_list that will contain string values\n",
        "# remember, the way to add a new element to a list is list.append()\n",
        "# we are simply appending the result of the string conversion\n",
        "str_list.append(str(int_list[0]))"
      ]
    },
    {
      "cell_type": "code",
      "execution_count": null,
      "metadata": {
        "id": "ZfWwpKFMPsKZ"
      },
      "outputs": [],
      "source": [
        "# our str_list should have one element - the value at the zero-th position of int_list, converted to a string\n",
        "str_list"
      ]
    },
    {
      "cell_type": "code",
      "execution_count": null,
      "metadata": {
        "id": "evcmUuWZPsKZ"
      },
      "outputs": [],
      "source": [
        "# looks like that worked, so let's convert and append the rest of the values\n",
        "# we know our int_list contains 5 elements from when we ran len() on it earlier\n",
        "# we've already done position 0, now let's do positions 1 - 4\n",
        "str_list.append(str(int_list[1]))\n",
        "str_list.append(str(int_list[2]))\n",
        "str_list.append(str(int_list[3]))\n",
        "str_list.append(str(int_list[4]))"
      ]
    },
    {
      "cell_type": "code",
      "execution_count": null,
      "metadata": {
        "id": "ZJmv7EQVPsKZ"
      },
      "outputs": [],
      "source": [
        "# let's see our list of strings\n",
        "str_list"
      ]
    },
    {
      "cell_type": "code",
      "execution_count": null,
      "metadata": {
        "id": "jKFJSZy-PsKZ"
      },
      "outputs": [],
      "source": [
        "# and for comparison, here's our original list of integers\n",
        "int_list"
      ]
    },
    {
      "cell_type": "code",
      "execution_count": null,
      "metadata": {
        "id": "t4eHbr27PsKZ"
      },
      "outputs": [],
      "source": [
        "# what we have seen is a manual way of doing this int -> string conversion\n",
        "# the whole benefit of coding is that we automate this sort of manual work\n",
        "# over the next couple of weeks we'll learn more advanced and efficient techniques like this:\n",
        "new_list = []\n",
        "for value in int_list:\n",
        "    new_list.append(str(value))\n",
        "new_list"
      ]
    },
    {
      "cell_type": "code",
      "execution_count": 83,
      "metadata": {
        "id": "nNvJLJxwPsKZ",
        "outputId": "b0ef1c51-d942-437e-952c-f0e5d902ecc3",
        "colab": {
          "base_uri": "https://localhost:8080/"
        }
      },
      "outputs": [
        {
          "output_type": "execute_result",
          "data": {
            "text/plain": [
              "['2', '4', '6', '8', '10']"
            ]
          },
          "metadata": {},
          "execution_count": 83
        }
      ],
      "source": [
        "# ...and eventually we'll learn even more advanced/efficient techniques, like this:\n",
        "[str(value) for value in int_list]"
      ]
    },
    {
      "cell_type": "code",
      "execution_count": 84,
      "metadata": {
        "id": "HAsMChkkPsKZ",
        "outputId": "973ff4b5-9051-402a-9421-34bdbcfe9443",
        "colab": {
          "base_uri": "https://localhost:8080/"
        }
      },
      "outputs": [
        {
          "output_type": "stream",
          "name": "stdout",
          "text": [
            "90\n"
          ]
        }
      ],
      "source": [
        "# now you try\n",
        "# write a code snippet to multiply all the items in int_list by 3, then sum the result\n",
        "\n",
        "cool_list=[]\n",
        "for pizza in int_list:\n",
        "  cool_list.append(pizza * 3)\n",
        "\n",
        "print(sum(cool_list))\n"
      ]
    },
    {
      "cell_type": "code",
      "execution_count": null,
      "metadata": {
        "id": "wT1vLxI1PsKZ"
      },
      "outputs": [],
      "source": [
        "# now you try\n",
        "# calculate the mean value of int_list\n",
        "\n"
      ]
    },
    {
      "cell_type": "markdown",
      "metadata": {
        "id": "Ds3prmJdPsKa"
      },
      "source": [
        "## Dictionaries"
      ]
    },
    {
      "cell_type": "code",
      "execution_count": 85,
      "metadata": {
        "id": "YGhxhnsVPsKa",
        "jupyter": {
          "outputs_hidden": false
        },
        "outputId": "577c4831-3a93-452c-ee32-ffb50a436ee4",
        "colab": {
          "base_uri": "https://localhost:8080/"
        }
      },
      "outputs": [
        {
          "output_type": "execute_result",
          "data": {
            "text/plain": [
              "{'hot': 'cold', 'fast': 'slow', 'good': 'bad'}"
            ]
          },
          "metadata": {},
          "execution_count": 85
        }
      ],
      "source": [
        "antonyms = {\"hot\": \"cold\", \"fast\": \"slow\", \"good\": \"bad\"}\n",
        "antonyms"
      ]
    },
    {
      "cell_type": "code",
      "execution_count": 86,
      "metadata": {
        "id": "3R-CzUmoPsKa",
        "jupyter": {
          "outputs_hidden": false
        },
        "outputId": "c2419873-e088-45ac-a793-728145bff30c",
        "colab": {
          "base_uri": "https://localhost:8080/",
          "height": 35
        }
      },
      "outputs": [
        {
          "output_type": "execute_result",
          "data": {
            "text/plain": [
              "'cold'"
            ],
            "application/vnd.google.colaboratory.intrinsic+json": {
              "type": "string"
            }
          },
          "metadata": {},
          "execution_count": 86
        }
      ],
      "source": [
        "# you can access things in a dictionary using its keys\n",
        "antonyms[\"hot\"]"
      ]
    },
    {
      "cell_type": "code",
      "execution_count": null,
      "metadata": {
        "id": "K053fFlIPsKa",
        "jupyter": {
          "outputs_hidden": false
        }
      },
      "outputs": [],
      "source": [
        "# you can update values in a dictionary because it is mutable\n",
        "antonyms[\"hot\"] = \"freezing\"\n",
        "antonyms"
      ]
    },
    {
      "cell_type": "code",
      "execution_count": null,
      "metadata": {
        "id": "jD8VTMmTPsKa",
        "jupyter": {
          "outputs_hidden": false
        }
      },
      "outputs": [],
      "source": [
        "# what are all the keys in this dict?\n",
        "antonyms.keys()"
      ]
    },
    {
      "cell_type": "code",
      "execution_count": null,
      "metadata": {
        "id": "kw9IZCbhPsKa",
        "jupyter": {
          "outputs_hidden": false
        }
      },
      "outputs": [],
      "source": [
        "# what are all the values in this dict?\n",
        "antonyms.values()"
      ]
    },
    {
      "cell_type": "code",
      "execution_count": null,
      "metadata": {
        "id": "LbD2bt5qPsKa"
      },
      "outputs": [],
      "source": [
        "# essentially a list of tuples\n",
        "antonyms.items()"
      ]
    },
    {
      "cell_type": "markdown",
      "metadata": {
        "id": "aHcepp2ZPsKa"
      },
      "source": [
        "## What is a program?"
      ]
    },
    {
      "cell_type": "markdown",
      "metadata": {
        "id": "R6ENcJnBPsKa"
      },
      "source": [
        "As Allen Downey explains in Think Python, the main elements of a program are:\n",
        "\n",
        "**input**: Get data from the keyboard, a ﬁle, or some other device.\n",
        "\n",
        "**output**: Display data on the screen or send data to a ﬁle or other device.\n",
        "\n",
        "**math**: Perform basic mathematical operations like addition and multiplication.\n",
        "\n",
        "**conditional execution**: Check for certain conditions and execute the appropriate code.\n",
        "\n",
        "**repetition**: Perform some action repeatedly, usually with some variation.\n",
        "\n",
        "These are common steps that you will find to be a generic recipe for many programs, whether written in Python or any other language."
      ]
    },
    {
      "cell_type": "code",
      "execution_count": null,
      "metadata": {
        "id": "f1jS3KIKPsKb"
      },
      "outputs": [],
      "source": [
        "# write a short program to calculate the length of the hypotenuse of a right triangle where the other sides have lengths 3 and 4\n",
        "# assign each side's length to its own variable"
      ]
    }
  ],
  "metadata": {
    "colab": {
      "provenance": []
    },
    "kernelspec": {
      "display_name": "Python (ppd534)",
      "language": "python",
      "name": "ppd534"
    },
    "language_info": {
      "codemirror_mode": {
        "name": "ipython",
        "version": 3
      },
      "file_extension": ".py",
      "mimetype": "text/x-python",
      "name": "python",
      "nbconvert_exporter": "python",
      "pygments_lexer": "ipython3",
      "version": "3.11.4"
    }
  },
  "nbformat": 4,
  "nbformat_minor": 0
}